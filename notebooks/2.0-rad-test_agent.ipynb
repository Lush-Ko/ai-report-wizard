{
 "cells": [
  {
   "cell_type": "code",
   "execution_count": 2,
   "id": "ee4632be-f152-442b-9547-43d9bcccd317",
   "metadata": {},
   "outputs": [
    {
     "name": "stdin",
     "output_type": "stream",
     "text": [
      " ········\n"
     ]
    }
   ],
   "source": [
    "import getpass\n",
    "import os\n",
    "\n",
    "os.environ[\"LANGCHAIN_TRACING_V2\"] = \"true\"\n",
    "os.environ[\"LANGCHAIN_API_KEY\"] = getpass.getpass()"
   ]
  },
  {
   "cell_type": "code",
   "execution_count": 3,
   "id": "666f73c5-6165-48b6-9838-94b164840c50",
   "metadata": {},
   "outputs": [
    {
     "name": "stdin",
     "output_type": "stream",
     "text": [
      " ········\n"
     ]
    }
   ],
   "source": [
    "os.environ[\"TAVILY_API_KEY\"] = getpass.getpass()"
   ]
  },
  {
   "cell_type": "code",
   "execution_count": 4,
   "id": "8a22178c-f25a-4cf4-be8d-25312f07b9a1",
   "metadata": {},
   "outputs": [],
   "source": [
    "# Import relevant functionality\n",
    "from langchain_ollama import ChatOllama\n",
    "from langchain_community.tools.tavily_search import TavilySearchResults\n",
    "from langchain_core.messages import HumanMessage\n",
    "from langgraph.checkpoint.memory import MemorySaver\n",
    "from langgraph.prebuilt import create_react_agent"
   ]
  },
  {
   "cell_type": "code",
   "execution_count": 5,
   "id": "d60cc8e9-c0c4-42dc-8cfa-5eee13ab8ad2",
   "metadata": {},
   "outputs": [],
   "source": [
    "# Create the agent\n",
    "memory = MemorySaver()\n",
    "model = ChatOllama(model=\"llama3.1\")\n",
    "search = TavilySearchResults(max_results=2)\n",
    "tools = [search]\n",
    "agent_executor = create_react_agent(model, tools, checkpointer=memory)"
   ]
  },
  {
   "cell_type": "code",
   "execution_count": null,
   "id": "8613b4a3-d9bc-419c-9ed4-7ae25d47c723",
   "metadata": {},
   "outputs": [],
   "source": [
    "# Use the agent\n",
    "config = {\"configurable\": {\"thread_id\": \"abc123\"}}\n",
    "for chunk in agent_executor.stream(\n",
    "    {\"messages\": [HumanMessage(content=\"hi im bob! and i want to create a report about the role of dopamine in human body\")]}, config\n",
    "):\n",
    "    print(chunk)\n",
    "    print(\"----\")"
   ]
  },
  {
   "cell_type": "code",
   "execution_count": null,
   "id": "7e5b9b8c-e73b-4e87-ae84-6c0a54584b3a",
   "metadata": {},
   "outputs": [],
   "source": [
    "for chunk in agent_executor.stream(\n",
    "    {\"messages\": [HumanMessage(content=\"help me to create a list of references that will be useful for my report\")]}, config\n",
    "):\n",
    "    print(chunk)\n",
    "    print(\"----\")"
   ]
  },
  {
   "cell_type": "code",
   "execution_count": 28,
   "id": "16707e75-b456-40c4-8e83-637b65679f72",
   "metadata": {},
   "outputs": [],
   "source": [
    "heh = list(agent_executor.checkpointer.get_tuple(config))"
   ]
  },
  {
   "cell_type": "code",
   "execution_count": 40,
   "id": "7431125f-3087-4e2b-be3f-4474b957e5bc",
   "metadata": {},
   "outputs": [
    {
     "name": "stdout",
     "output_type": "stream",
     "text": [
      "Here's a list of references that may be useful for your report on dopamine in the human body:\n",
      "\n",
      "1. \"Dopamine: A Key Player in the Pathophysiology of Neurological Disorders\" (Chapter 1, Springer)\n",
      "\t* This article provides an overview of the role of dopamine in various neurological disorders, including Parkinson's disease and restless legs syndrome.\n",
      "2. \"The Neuronal Encoding of Reward and Aversive Stimuli\" (PMC)\n",
      "\t* This article discusses the neural encoding of reward and aversive stimuli, and how dopamine neurons respond to these stimuli.\n",
      "\n",
      "Some other potential references that may be useful for your report include:\n",
      "\n",
      "* Books on neuroscience or psychology that discuss dopamine in detail\n",
      "* Research articles on specific conditions related to dopamine, such as Parkinson's disease or ADHD\n",
      "* Reviews of studies on dopamine function and behavior\n",
      "\n",
      "Note: The exact list will depend on the specifics of your report, but these references should provide a good starting point for researching the topic.\n"
     ]
    }
   ],
   "source": [
    "print(heh[2]['writes']['agent']['messages'][0].content)"
   ]
  }
 ],
 "metadata": {
  "kernelspec": {
   "display_name": "ai-report-wizard",
   "language": "python",
   "name": "ai-report-wizard"
  },
  "language_info": {
   "codemirror_mode": {
    "name": "ipython",
    "version": 3
   },
   "file_extension": ".py",
   "mimetype": "text/x-python",
   "name": "python",
   "nbconvert_exporter": "python",
   "pygments_lexer": "ipython3",
   "version": "3.12.4"
  }
 },
 "nbformat": 4,
 "nbformat_minor": 5
}
